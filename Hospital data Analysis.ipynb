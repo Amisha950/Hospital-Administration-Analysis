{
 "cells": [
  {
   "cell_type": "markdown",
   "id": "c11474b9",
   "metadata": {},
   "source": [
    "# Reducing Readmissions: A Data Analytics Case Study for Improved Patient Care"
   ]
  },
  {
   "cell_type": "markdown",
   "id": "bc580140",
   "metadata": {},
   "source": [
    "\n",
    "Background:\n",
    "Scenario: You are a data analyst in a large hospital's administration department in Novartis, focusing on improving patient care while reducing unnecessary readmissions. Recently, the hospital has seen a spike in readmission rates, leading to increased healthcare costs and indicating potential quality of care issues. The administration is concerned about the impact on patient outcomes and the hospital's reputation. Your task is to analyze hospital admission data to identify patterns and factors associated with high readmission rates.\n",
    "\n",
    "Problem Statement\n",
    "Addressing high readmission rates is crucial for enhancing patient care quality, optimizing hospital resource allocation, and complying with healthcare regulations. Identifying the underlying causes can lead to targeted interventions, improved patient outcomes, and potentially significant cost savings.\n"
   ]
  },
  {
   "cell_type": "code",
   "execution_count": 1,
   "id": "05a0e7b4",
   "metadata": {},
   "outputs": [],
   "source": [
    "import pandas as pd"
   ]
  },
  {
   "cell_type": "code",
   "execution_count": 2,
   "id": "482267a2",
   "metadata": {},
   "outputs": [
    {
     "data": {
      "text/html": [
       "<div>\n",
       "<style scoped>\n",
       "    .dataframe tbody tr th:only-of-type {\n",
       "        vertical-align: middle;\n",
       "    }\n",
       "\n",
       "    .dataframe tbody tr th {\n",
       "        vertical-align: top;\n",
       "    }\n",
       "\n",
       "    .dataframe thead th {\n",
       "        text-align: right;\n",
       "    }\n",
       "</style>\n",
       "<table border=\"1\" class=\"dataframe\">\n",
       "  <thead>\n",
       "    <tr style=\"text-align: right;\">\n",
       "      <th></th>\n",
       "      <th>index</th>\n",
       "      <th>encounter_id</th>\n",
       "      <th>patient_id</th>\n",
       "      <th>race</th>\n",
       "      <th>gender</th>\n",
       "      <th>age</th>\n",
       "      <th>weight</th>\n",
       "      <th>time_in_hospital</th>\n",
       "      <th>medical_specialty</th>\n",
       "      <th>num_lab_procedures</th>\n",
       "      <th>...</th>\n",
       "      <th>X19</th>\n",
       "      <th>X20</th>\n",
       "      <th>X21</th>\n",
       "      <th>X22</th>\n",
       "      <th>X23</th>\n",
       "      <th>X24</th>\n",
       "      <th>X25</th>\n",
       "      <th>change</th>\n",
       "      <th>diabetesMed</th>\n",
       "      <th>readmitted</th>\n",
       "    </tr>\n",
       "  </thead>\n",
       "  <tbody>\n",
       "    <tr>\n",
       "      <th>0</th>\n",
       "      <td>69375</td>\n",
       "      <td>197029140</td>\n",
       "      <td>51521940</td>\n",
       "      <td>Hispanic</td>\n",
       "      <td>Male</td>\n",
       "      <td>[80-90)</td>\n",
       "      <td>?</td>\n",
       "      <td>4</td>\n",
       "      <td>Emergency/Trauma</td>\n",
       "      <td>39</td>\n",
       "      <td>...</td>\n",
       "      <td>No</td>\n",
       "      <td>No</td>\n",
       "      <td>No</td>\n",
       "      <td>No</td>\n",
       "      <td>No</td>\n",
       "      <td>No</td>\n",
       "      <td>No</td>\n",
       "      <td>No</td>\n",
       "      <td>Yes</td>\n",
       "      <td>1</td>\n",
       "    </tr>\n",
       "    <tr>\n",
       "      <th>1</th>\n",
       "      <td>57272</td>\n",
       "      <td>163571946</td>\n",
       "      <td>92631357</td>\n",
       "      <td>Caucasian</td>\n",
       "      <td>Male</td>\n",
       "      <td>[60-70)</td>\n",
       "      <td>?</td>\n",
       "      <td>3</td>\n",
       "      <td>Emergency/Trauma</td>\n",
       "      <td>34</td>\n",
       "      <td>...</td>\n",
       "      <td>No</td>\n",
       "      <td>No</td>\n",
       "      <td>No</td>\n",
       "      <td>No</td>\n",
       "      <td>No</td>\n",
       "      <td>No</td>\n",
       "      <td>No</td>\n",
       "      <td>No</td>\n",
       "      <td>No</td>\n",
       "      <td>0</td>\n",
       "    </tr>\n",
       "    <tr>\n",
       "      <th>2</th>\n",
       "      <td>82347</td>\n",
       "      <td>256497366</td>\n",
       "      <td>30023982</td>\n",
       "      <td>Caucasian</td>\n",
       "      <td>Female</td>\n",
       "      <td>[50-60)</td>\n",
       "      <td>?</td>\n",
       "      <td>6</td>\n",
       "      <td>Nephrology</td>\n",
       "      <td>50</td>\n",
       "      <td>...</td>\n",
       "      <td>No</td>\n",
       "      <td>Down</td>\n",
       "      <td>No</td>\n",
       "      <td>No</td>\n",
       "      <td>No</td>\n",
       "      <td>No</td>\n",
       "      <td>No</td>\n",
       "      <td>Ch</td>\n",
       "      <td>Yes</td>\n",
       "      <td>1</td>\n",
       "    </tr>\n",
       "    <tr>\n",
       "      <th>3</th>\n",
       "      <td>89608</td>\n",
       "      <td>289891212</td>\n",
       "      <td>93606021</td>\n",
       "      <td>AfricanAmerican</td>\n",
       "      <td>Female</td>\n",
       "      <td>[70-80)</td>\n",
       "      <td>?</td>\n",
       "      <td>5</td>\n",
       "      <td>?</td>\n",
       "      <td>63</td>\n",
       "      <td>...</td>\n",
       "      <td>No</td>\n",
       "      <td>Down</td>\n",
       "      <td>No</td>\n",
       "      <td>No</td>\n",
       "      <td>No</td>\n",
       "      <td>No</td>\n",
       "      <td>No</td>\n",
       "      <td>Ch</td>\n",
       "      <td>Yes</td>\n",
       "      <td>1</td>\n",
       "    </tr>\n",
       "    <tr>\n",
       "      <th>4</th>\n",
       "      <td>24091</td>\n",
       "      <td>81873900</td>\n",
       "      <td>23464296</td>\n",
       "      <td>Caucasian</td>\n",
       "      <td>Male</td>\n",
       "      <td>[70-80)</td>\n",
       "      <td>?</td>\n",
       "      <td>9</td>\n",
       "      <td>Psychiatry</td>\n",
       "      <td>17</td>\n",
       "      <td>...</td>\n",
       "      <td>No</td>\n",
       "      <td>No</td>\n",
       "      <td>No</td>\n",
       "      <td>No</td>\n",
       "      <td>No</td>\n",
       "      <td>No</td>\n",
       "      <td>No</td>\n",
       "      <td>No</td>\n",
       "      <td>No</td>\n",
       "      <td>1</td>\n",
       "    </tr>\n",
       "    <tr>\n",
       "      <th>...</th>\n",
       "      <td>...</td>\n",
       "      <td>...</td>\n",
       "      <td>...</td>\n",
       "      <td>...</td>\n",
       "      <td>...</td>\n",
       "      <td>...</td>\n",
       "      <td>...</td>\n",
       "      <td>...</td>\n",
       "      <td>...</td>\n",
       "      <td>...</td>\n",
       "      <td>...</td>\n",
       "      <td>...</td>\n",
       "      <td>...</td>\n",
       "      <td>...</td>\n",
       "      <td>...</td>\n",
       "      <td>...</td>\n",
       "      <td>...</td>\n",
       "      <td>...</td>\n",
       "      <td>...</td>\n",
       "      <td>...</td>\n",
       "      <td>...</td>\n",
       "    </tr>\n",
       "    <tr>\n",
       "      <th>66582</th>\n",
       "      <td>39934</td>\n",
       "      <td>124202466</td>\n",
       "      <td>23450508</td>\n",
       "      <td>Caucasian</td>\n",
       "      <td>Female</td>\n",
       "      <td>[70-80)</td>\n",
       "      <td>?</td>\n",
       "      <td>11</td>\n",
       "      <td>InternalMedicine</td>\n",
       "      <td>40</td>\n",
       "      <td>...</td>\n",
       "      <td>No</td>\n",
       "      <td>Steady</td>\n",
       "      <td>No</td>\n",
       "      <td>No</td>\n",
       "      <td>No</td>\n",
       "      <td>No</td>\n",
       "      <td>No</td>\n",
       "      <td>No</td>\n",
       "      <td>Yes</td>\n",
       "      <td>0</td>\n",
       "    </tr>\n",
       "    <tr>\n",
       "      <th>66583</th>\n",
       "      <td>47366</td>\n",
       "      <td>145667070</td>\n",
       "      <td>29324601</td>\n",
       "      <td>Caucasian</td>\n",
       "      <td>Male</td>\n",
       "      <td>[80-90)</td>\n",
       "      <td>?</td>\n",
       "      <td>4</td>\n",
       "      <td>?</td>\n",
       "      <td>39</td>\n",
       "      <td>...</td>\n",
       "      <td>No</td>\n",
       "      <td>No</td>\n",
       "      <td>No</td>\n",
       "      <td>No</td>\n",
       "      <td>No</td>\n",
       "      <td>No</td>\n",
       "      <td>No</td>\n",
       "      <td>No</td>\n",
       "      <td>No</td>\n",
       "      <td>1</td>\n",
       "    </tr>\n",
       "    <tr>\n",
       "      <th>66584</th>\n",
       "      <td>76555</td>\n",
       "      <td>231061116</td>\n",
       "      <td>2179062</td>\n",
       "      <td>Caucasian</td>\n",
       "      <td>Female</td>\n",
       "      <td>[60-70)</td>\n",
       "      <td>?</td>\n",
       "      <td>2</td>\n",
       "      <td>?</td>\n",
       "      <td>24</td>\n",
       "      <td>...</td>\n",
       "      <td>No</td>\n",
       "      <td>No</td>\n",
       "      <td>No</td>\n",
       "      <td>No</td>\n",
       "      <td>No</td>\n",
       "      <td>No</td>\n",
       "      <td>No</td>\n",
       "      <td>No</td>\n",
       "      <td>Yes</td>\n",
       "      <td>1</td>\n",
       "    </tr>\n",
       "    <tr>\n",
       "      <th>66585</th>\n",
       "      <td>25392</td>\n",
       "      <td>84911682</td>\n",
       "      <td>20531754</td>\n",
       "      <td>?</td>\n",
       "      <td>Female</td>\n",
       "      <td>[80-90)</td>\n",
       "      <td>?</td>\n",
       "      <td>4</td>\n",
       "      <td>InternalMedicine</td>\n",
       "      <td>39</td>\n",
       "      <td>...</td>\n",
       "      <td>No</td>\n",
       "      <td>No</td>\n",
       "      <td>No</td>\n",
       "      <td>No</td>\n",
       "      <td>No</td>\n",
       "      <td>No</td>\n",
       "      <td>No</td>\n",
       "      <td>No</td>\n",
       "      <td>No</td>\n",
       "      <td>0</td>\n",
       "    </tr>\n",
       "    <tr>\n",
       "      <th>66586</th>\n",
       "      <td>51312</td>\n",
       "      <td>153167502</td>\n",
       "      <td>81985473</td>\n",
       "      <td>Caucasian</td>\n",
       "      <td>Female</td>\n",
       "      <td>[80-90)</td>\n",
       "      <td>?</td>\n",
       "      <td>2</td>\n",
       "      <td>?</td>\n",
       "      <td>38</td>\n",
       "      <td>...</td>\n",
       "      <td>No</td>\n",
       "      <td>Steady</td>\n",
       "      <td>No</td>\n",
       "      <td>No</td>\n",
       "      <td>No</td>\n",
       "      <td>No</td>\n",
       "      <td>No</td>\n",
       "      <td>Ch</td>\n",
       "      <td>Yes</td>\n",
       "      <td>1</td>\n",
       "    </tr>\n",
       "  </tbody>\n",
       "</table>\n",
       "<p>66587 rows × 49 columns</p>\n",
       "</div>"
      ],
      "text/plain": [
       "       index  encounter_id  patient_id             race  gender      age  \\\n",
       "0      69375     197029140    51521940         Hispanic    Male  [80-90)   \n",
       "1      57272     163571946    92631357        Caucasian    Male  [60-70)   \n",
       "2      82347     256497366    30023982        Caucasian  Female  [50-60)   \n",
       "3      89608     289891212    93606021  AfricanAmerican  Female  [70-80)   \n",
       "4      24091      81873900    23464296        Caucasian    Male  [70-80)   \n",
       "...      ...           ...         ...              ...     ...      ...   \n",
       "66582  39934     124202466    23450508        Caucasian  Female  [70-80)   \n",
       "66583  47366     145667070    29324601        Caucasian    Male  [80-90)   \n",
       "66584  76555     231061116     2179062        Caucasian  Female  [60-70)   \n",
       "66585  25392      84911682    20531754                ?  Female  [80-90)   \n",
       "66586  51312     153167502    81985473        Caucasian  Female  [80-90)   \n",
       "\n",
       "      weight  time_in_hospital medical_specialty  num_lab_procedures  ...  \\\n",
       "0          ?                 4  Emergency/Trauma                  39  ...   \n",
       "1          ?                 3  Emergency/Trauma                  34  ...   \n",
       "2          ?                 6        Nephrology                  50  ...   \n",
       "3          ?                 5                 ?                  63  ...   \n",
       "4          ?                 9        Psychiatry                  17  ...   \n",
       "...      ...               ...               ...                 ...  ...   \n",
       "66582      ?                11  InternalMedicine                  40  ...   \n",
       "66583      ?                 4                 ?                  39  ...   \n",
       "66584      ?                 2                 ?                  24  ...   \n",
       "66585      ?                 4  InternalMedicine                  39  ...   \n",
       "66586      ?                 2                 ?                  38  ...   \n",
       "\n",
       "       X19     X20  X21  X22  X23 X24 X25 change diabetesMed  readmitted  \n",
       "0       No      No   No   No   No  No  No     No         Yes           1  \n",
       "1       No      No   No   No   No  No  No     No          No           0  \n",
       "2       No    Down   No   No   No  No  No     Ch         Yes           1  \n",
       "3       No    Down   No   No   No  No  No     Ch         Yes           1  \n",
       "4       No      No   No   No   No  No  No     No          No           1  \n",
       "...    ...     ...  ...  ...  ...  ..  ..    ...         ...         ...  \n",
       "66582   No  Steady   No   No   No  No  No     No         Yes           0  \n",
       "66583   No      No   No   No   No  No  No     No          No           1  \n",
       "66584   No      No   No   No   No  No  No     No         Yes           1  \n",
       "66585   No      No   No   No   No  No  No     No          No           0  \n",
       "66586   No  Steady   No   No   No  No  No     Ch         Yes           1  \n",
       "\n",
       "[66587 rows x 49 columns]"
      ]
     },
     "execution_count": 2,
     "metadata": {},
     "output_type": "execute_result"
    }
   ],
   "source": [
    "df = pd.read_csv('HA Data.csv')\n",
    "df"
   ]
  },
  {
   "cell_type": "code",
   "execution_count": 3,
   "id": "44655226",
   "metadata": {},
   "outputs": [
    {
     "data": {
      "text/plain": [
       "Index(['index', 'encounter_id', 'patient_id', 'race', 'gender', 'age',\n",
       "       'weight', 'time_in_hospital', 'medical_specialty', 'num_lab_procedures',\n",
       "       'num_procedures', 'num_medications', 'number_outpatient',\n",
       "       'number_emergency', 'number_inpatient', 'diag_1', 'diag_2', 'diag_3',\n",
       "       'diag_4', 'diag_5', 'number_diagnoses', 'X1', 'X2', 'X3', 'X4', 'X5',\n",
       "       'X6', 'X7', 'X8', 'X9', 'X10', 'X11', 'X12', 'X13', 'X14', 'X15', 'X16',\n",
       "       'X17', 'X18', 'X19', 'X20', 'X21', 'X22', 'X23', 'X24', 'X25', 'change',\n",
       "       'diabetesMed', 'readmitted'],\n",
       "      dtype='object')"
      ]
     },
     "execution_count": 3,
     "metadata": {},
     "output_type": "execute_result"
    }
   ],
   "source": [
    "df\n",
    "df.columns"
   ]
  },
  {
   "cell_type": "markdown",
   "id": "ca2d9c2c",
   "metadata": {},
   "source": [
    " Q1:What is the distribution of readmission rates across different age groups?\n"
   ]
  },
  {
   "cell_type": "code",
   "execution_count": 4,
   "id": "68a042f1",
   "metadata": {},
   "outputs": [
    {
     "name": "stdout",
     "output_type": "stream",
     "text": [
      "age\n",
      "[0-10)      0.220000\n",
      "[10-20)     0.415888\n",
      "[20-30)     0.450607\n",
      "[30-40)     0.420878\n",
      "[40-50)     0.444972\n",
      "[50-60)     0.450782\n",
      "[60-70)     0.462108\n",
      "[70-80)     0.480242\n",
      "[80-90)     0.482762\n",
      "[90-100)    0.380251\n",
      "Name: readmitted, dtype: float64\n"
     ]
    }
   ],
   "source": [
    "# Analyzing readmission rates by age group\n",
    "readmission_rates_by_age = df.groupby('age')['readmitted'].mean()\n",
    "print(readmission_rates_by_age)"
   ]
  },
  {
   "cell_type": "markdown",
   "id": "95a31a03",
   "metadata": {},
   "source": [
    "Q2.Analyze the average length of hospital stays by medical specialty. Which specialties have the longest and shortest average stays?"
   ]
  },
  {
   "cell_type": "code",
   "execution_count": 5,
   "id": "8fdf961e",
   "metadata": {},
   "outputs": [
    {
     "name": "stdout",
     "output_type": "stream",
     "text": [
      "medical_specialty\n",
      "?                           4.395660\n",
      "AllergyandImmunology        3.428571\n",
      "Anesthesiology              2.444444\n",
      "Anesthesiology-Pediatric    1.714286\n",
      "Cardiology                  3.600757\n",
      "                              ...   \n",
      "Surgery-Plastic             4.685714\n",
      "Surgery-Thoracic            5.960000\n",
      "Surgery-Vascular            4.161560\n",
      "SurgicalSpecialty           4.789474\n",
      "Urology                     3.303419\n",
      "Name: time_in_hospital, Length: 65, dtype: float64\n"
     ]
    }
   ],
   "source": [
    "average_stays_by_specialty = df.groupby('medical_specialty')['time_in_hospital'].mean()\n",
    "print(average_stays_by_specialty)"
   ]
  },
  {
   "cell_type": "markdown",
   "id": "e345252d",
   "metadata": {},
   "source": [
    "Q3: How does the number of emergency visits in the previous year correlate with readmission rates?\n"
   ]
  },
  {
   "cell_type": "code",
   "execution_count": 6,
   "id": "56b88e7a",
   "metadata": {},
   "outputs": [
    {
     "name": "stdout",
     "output_type": "stream",
     "text": [
      "                  number_emergency  readmitted\n",
      "number_emergency           1.00000     0.10782\n",
      "readmitted                 0.10782     1.00000\n"
     ]
    }
   ],
   "source": [
    "correlation = df[['number_emergency', 'readmitted']].corr()\n",
    "print(correlation)"
   ]
  },
  {
   "cell_type": "markdown",
   "id": "b260b611",
   "metadata": {},
   "source": [
    "Q4. What proportion of patients with diabetes were readmitted within 30 days?"
   ]
  },
  {
   "cell_type": "code",
   "execution_count": 7,
   "id": "d68303fa",
   "metadata": {},
   "outputs": [
    {
     "name": "stdout",
     "output_type": "stream",
     "text": [
      "0.4796211307489503\n"
     ]
    }
   ],
   "source": [
    "diabetes_readmission_proportion = df[df['diabetesMed'] == 'Yes']['readmitted'].mean()\n",
    "print(diabetes_readmission_proportion)"
   ]
  },
  {
   "cell_type": "markdown",
   "id": "351a4c8c",
   "metadata": {},
   "source": [
    "Q5. Is there a significant difference in readmission rates between patients with changes in diabetic medication and those without?"
   ]
  },
  {
   "cell_type": "code",
   "execution_count": 8,
   "id": "740e8ce6",
   "metadata": {},
   "outputs": [
    {
     "name": "stdout",
     "output_type": "stream",
     "text": [
      "change\n",
      "Ch    0.486202\n",
      "No    0.441327\n",
      "Name: readmitted, dtype: float64\n"
     ]
    }
   ],
   "source": [
    "readmission_rates_by_medication_change = df.groupby('change')['readmitted'].mean()\n",
    "print(readmission_rates_by_medication_change)"
   ]
  },
  {
   "cell_type": "markdown",
   "id": "595525d3",
   "metadata": {},
   "source": [
    "Q6. Investigate the relationship between the number of lab procedures performed during the stay and readmission rates.\n"
   ]
  },
  {
   "cell_type": "code",
   "execution_count": 9,
   "id": "0b54eec3",
   "metadata": {},
   "outputs": [
    {
     "name": "stdout",
     "output_type": "stream",
     "text": [
      "                    num_lab_procedures  readmitted\n",
      "num_lab_procedures            1.000000    0.035691\n",
      "readmitted                    0.035691    1.000000\n"
     ]
    }
   ],
   "source": [
    "correlation_lab_readmission = df[['num_lab_procedures', 'readmitted']].corr()\n",
    "print(correlation_lab_readmission)"
   ]
  },
  {
   "cell_type": "markdown",
   "id": "8915e5ed",
   "metadata": {},
   "source": [
    "Q7. How do readmission rates vary by race and gender?\n"
   ]
  },
  {
   "cell_type": "code",
   "execution_count": 10,
   "id": "db8801f6",
   "metadata": {},
   "outputs": [
    {
     "name": "stdout",
     "output_type": "stream",
     "text": [
      "race             gender         \n",
      "?                Female             0.306319\n",
      "                 Male               0.314839\n",
      "                 Unknown/Invalid    0.000000\n",
      "AfricanAmerican  Female             0.466358\n",
      "                 Male               0.449287\n",
      "Asian            Female             0.418605\n",
      "                 Male               0.362694\n",
      "Caucasian        Female             0.477517\n",
      "                 Male               0.462586\n",
      "Hispanic         Female             0.397790\n",
      "                 Male               0.419355\n",
      "Other            Female             0.395948\n",
      "                 Male               0.409091\n",
      "                 Unknown/Invalid    0.000000\n",
      "Name: readmitted, dtype: float64\n"
     ]
    }
   ],
   "source": [
    "readmission_rates_by_race_gender = df.groupby(['race', 'gender'])['readmitted'].mean()\n",
    "print(readmission_rates_by_race_gender)"
   ]
  },
  {
   "cell_type": "markdown",
   "id": "f69f5ba9",
   "metadata": {},
   "source": [
    "Q8. What is the distribution of patients across different weight categories, and how does this relate to readmission rates?"
   ]
  },
  {
   "cell_type": "code",
   "execution_count": 11,
   "id": "470a900f",
   "metadata": {},
   "outputs": [
    {
     "name": "stdout",
     "output_type": "stream",
     "text": [
      "0.9679667202306756\n"
     ]
    }
   ],
   "source": [
    "missing_weight_proportion = (df['weight'] == '?').mean()\n",
    "print(missing_weight_proportion) # Proportion of missing 'weight' data\n"
   ]
  },
  {
   "cell_type": "code",
   "execution_count": 12,
   "id": "c8968fc3",
   "metadata": {},
   "outputs": [
    {
     "name": "stdout",
     "output_type": "stream",
     "text": [
      "weight\n",
      ">200         1.000000\n",
      "?            0.458560\n",
      "[0-25)       0.807692\n",
      "[100-125)    0.586538\n",
      "[125-150)    0.490385\n",
      "[150-175)    0.250000\n",
      "[175-200)    0.375000\n",
      "[25-50)      0.576923\n",
      "[50-75)      0.533997\n",
      "[75-100)     0.586667\n",
      "Name: readmitted, dtype: float64\n"
     ]
    }
   ],
   "source": [
    "readmission_rates_by_weight = df.groupby('weight')['readmitted'].mean()\n",
    "print(readmission_rates_by_weight)"
   ]
  },
  {
   "cell_type": "markdown",
   "id": "c5addc23",
   "metadata": {},
   "source": [
    "Q9. Evaluate the impact of the number of medications prescribed on the length of hospital stay.\n"
   ]
  },
  {
   "cell_type": "code",
   "execution_count": 13,
   "id": "f29f05bb",
   "metadata": {},
   "outputs": [
    {
     "name": "stdout",
     "output_type": "stream",
     "text": [
      "                  num_medications  time_in_hospital\n",
      "num_medications          1.000000          0.466018\n",
      "time_in_hospital         0.466018          1.000000\n"
     ]
    }
   ],
   "source": [
    "correlation_medications_stay = df[['num_medications', 'time_in_hospital']].corr()\n",
    "print(correlation_medications_stay)"
   ]
  },
  {
   "cell_type": "markdown",
   "id": "a13e385b",
   "metadata": {},
   "source": [
    " Q10. Assess the frequency and impact of outpatient visits in the year prior to the current hospital stay on readmission rates.\n"
   ]
  },
  {
   "cell_type": "code",
   "execution_count": 15,
   "id": "81154fe7",
   "metadata": {},
   "outputs": [
    {
     "name": "stdout",
     "output_type": "stream",
     "text": [
      "                   number_outpatient  readmitted\n",
      "number_outpatient            1.00000     0.08159\n",
      "readmitted                   0.08159     1.00000\n"
     ]
    }
   ],
   "source": [
    "correlation_outpatient_readmitted = df[['number_outpatient', 'readmitted']].corr()\n",
    "print(correlation_outpatient_readmitted)"
   ]
  },
  {
   "cell_type": "markdown",
   "id": "dc5e6a55",
   "metadata": {},
   "source": [
    "Q11. Analyze the effect of comorbid conditions (presence of multiple diagnoses) on the length of hospital stay and readmission rates."
   ]
  },
  {
   "cell_type": "code",
   "execution_count": 16,
   "id": "90307e35",
   "metadata": {},
   "outputs": [
    {
     "data": {
      "text/plain": [
       "<Axes: title={'center': 'Readmission Rate by Comorbidity Score'}, xlabel='comorbidity_score'>"
      ]
     },
     "execution_count": 16,
     "metadata": {},
     "output_type": "execute_result"
    },
    {
     "data": {
      "image/png": "[encoded data removed]",
      "text/plain": [
       "<Figure size 640x480 with 1 Axes>"
      ]
     },
     "metadata": {},
     "output_type": "display_data"
    }
   ],
   "source": [
    "# Assuming 'number_diagnoses' represents comorbidity score\n",
    "df['comorbidity_score'] = df['number_diagnoses']\n",
    "\n",
    "# Analyze by grouping by comorbidity score\n",
    "avg_stay_by_comorbidity = df.groupby('comorbidity_score')['time_in_hospital'].mean()\n",
    "readmission_rate_by_comorbidity = df.groupby('comorbidity_score')['readmitted'].mean()\n",
    "\n",
    "# Visualizing\n",
    "avg_stay_by_comorbidity.plot(kind='bar', title='Average Stay by Comorbidity Score')\n",
    "readmission_rate_by_comorbidity.plot(kind='bar', title='Readmission Rate by Comorbidity Score')"
   ]
  },
  {
   "cell_type": "markdown",
   "id": "2abec1bd",
   "metadata": {},
   "source": [
    "Q12. Explore the relationship between patient demographics (race, gender, age) and the type of medical interventions received (lab procedures, medications)."
   ]
  },
  {
   "cell_type": "code",
   "execution_count": 17,
   "id": "c957bff8",
   "metadata": {},
   "outputs": [
    {
     "name": "stdout",
     "output_type": "stream",
     "text": [
      "                                num_lab_procedures  num_medications\n",
      "race  gender          age                                          \n",
      "?     Female          [20-30)            33.733333         8.933333\n",
      "                      [30-40)            32.680000        12.720000\n",
      "                      [40-50)            42.217391        15.826087\n",
      "                      [50-60)            44.924528        16.905660\n",
      "                      [60-70)            44.753521        15.436620\n",
      "...                                            ...              ...\n",
      "Other Male            [60-70)            45.587838        16.655405\n",
      "                      [70-80)            46.467290        16.691589\n",
      "                      [80-90)            45.162162        16.540541\n",
      "                      [90-100)           35.500000        11.000000\n",
      "      Unknown/Invalid [70-80)             5.000000        22.000000\n",
      "\n",
      "[115 rows x 2 columns]\n"
     ]
    }
   ],
   "source": [
    "# Group by demographics and calculate averages\n",
    "avg_interventions_by_demographics = df.groupby(['race', 'gender', 'age'])[['num_lab_procedures', 'num_medications']].mean()\n",
    "print(avg_interventions_by_demographics )"
   ]
  },
  {
   "cell_type": "markdown",
   "id": "11c6443c",
   "metadata": {},
   "source": [
    "Q13.Examine the association between the number of inpatient, outpatient, and emergency visits in the previous year and the type of primary diagnosis."
   ]
  },
  {
   "cell_type": "code",
   "execution_count": 18,
   "id": "2e47dea5",
   "metadata": {},
   "outputs": [
    {
     "name": "stdout",
     "output_type": "stream",
     "text": [
      "        number_inpatient  number_outpatient  number_emergency\n",
      "diag_1                                                       \n",
      "10              0.000000           0.000000          0.000000\n",
      "11              0.250000           0.250000          0.000000\n",
      "112             0.883721           0.302326          0.186047\n",
      "114             0.000000           2.000000          0.000000\n",
      "115             0.333333           0.333333          0.000000\n",
      "...                  ...                ...               ...\n",
      "V58             1.700565           0.604520          0.084746\n",
      "V63             0.000000           0.333333          0.000000\n",
      "V66             2.333333           0.000000          0.000000\n",
      "V70             0.000000           0.000000          0.000000\n",
      "V71             0.000000           0.600000          0.000000\n",
      "\n",
      "[652 rows x 3 columns]\n"
     ]
    }
   ],
   "source": [
    "avg_visits_by_diagnosis = df.groupby('diag_1')[['number_inpatient', 'number_outpatient', 'number_emergency']].mean()\n",
    "print(avg_visits_by_diagnosis)"
   ]
  },
  {
   "cell_type": "markdown",
   "id": "a8fb33bb",
   "metadata": {},
   "source": [
    "Q14. Assess the variation in medication prescribing patterns (X1 to X25) across different medical specialties and their impact on readmission rates."
   ]
  },
  {
   "cell_type": "code",
   "execution_count": 19,
   "id": "9a32f922",
   "metadata": {},
   "outputs": [
    {
     "name": "stdout",
     "output_type": "stream",
     "text": [
      "Empty DataFrame\n",
      "Columns: []\n",
      "Index: [?, AllergyandImmunology, Anesthesiology, Anesthesiology-Pediatric, Cardiology, Cardiology-Pediatric, DCPTEAM, Dentistry, Emergency/Trauma, Endocrinology, Endocrinology-Metabolism, Family/GeneralPractice, Gastroenterology, Gynecology, Hematology, Hematology/Oncology, Hospitalist, InfectiousDiseases, InternalMedicine, Nephrology, Neurology, Obsterics&Gynecology-GynecologicOnco, Obstetrics, ObstetricsandGynecology, Oncology, Ophthalmology, Orthopedics, Orthopedics-Reconstructive, Osteopath, Otolaryngology, OutreachServices, Pathology, Pediatrics, Pediatrics-CriticalCare, Pediatrics-EmergencyMedicine, Pediatrics-Endocrinology, Pediatrics-Hematology-Oncology, Pediatrics-Neurology, Pediatrics-Pulmonology, PhysicalMedicineandRehabilitation, PhysicianNotFound, Podiatry, Proctology, Psychiatry, Psychiatry-Addictive, Psychiatry-Child/Adolescent, Psychology, Pulmonology, Radiologist, Radiology, Rheumatology, Speech, Surgeon, Surgery-Cardiovascular, Surgery-Cardiovascular/Thoracic, Surgery-Colon&Rectal, Surgery-General, Surgery-Maxillofacial, Surgery-Neuro, Surgery-Pediatric, Surgery-Plastic, Surgery-Thoracic, Surgery-Vascular, SurgicalSpecialty, Urology]\n",
      "\n",
      "[65 rows x 0 columns]\n"
     ]
    },
    {
     "name": "stderr",
     "output_type": "stream",
     "text": [
      "C:\\Users\\Amisha\\AppData\\Local\\Temp\\ipykernel_10932\\180812142.py:3: FutureWarning: The default value of numeric_only in DataFrameGroupBy.mean is deprecated. In a future version, numeric_only will default to False. Either specify numeric_only or select only columns which should be valid for the function.\n",
      "  avg_medication_use_by_specialty = df.groupby('medical_specialty')[medication_columns].mean()\n"
     ]
    }
   ],
   "source": [
    "# Assuming columns 'X1' to 'X25' represent medication indicators\n",
    "medication_columns = [f'X{i}' for i in range(1, 26)]\n",
    "avg_medication_use_by_specialty = df.groupby('medical_specialty')[medication_columns].mean()\n",
    "\n",
    "print(avg_medication_use_by_specialty)"
   ]
  },
  {
   "cell_type": "markdown",
   "id": "767fb4a3",
   "metadata": {},
   "source": [
    "Q15. Conduct a detailed analysis of the relationship between patient weight categories and specific diagnosis codes on readmission rates.\n"
   ]
  },
  {
   "cell_type": "code",
   "execution_count": 20,
   "id": "071bcaa4",
   "metadata": {},
   "outputs": [
    {
     "name": "stdout",
     "output_type": "stream",
     "text": [
      "weight    diag_1\n",
      ">200      296       1.000000\n",
      "          599       1.000000\n",
      "?         10        0.000000\n",
      "          11        0.625000\n",
      "          112       0.627907\n",
      "                      ...   \n",
      "[75-100)  V53       0.500000\n",
      "          V54       0.000000\n",
      "          V55       0.000000\n",
      "          V57       0.464286\n",
      "          V58       1.000000\n",
      "Name: readmitted, Length: 1179, dtype: float64\n"
     ]
    }
   ],
   "source": [
    "readmission_rates_by_weight_diag = df.groupby(['weight', 'diag_1'])['readmitted'].mean()\n",
    "print(readmission_rates_by_weight_diag)"
   ]
  }
 ],
 "metadata": {
  "kernelspec": {
   "display_name": "Python 3 (ipykernel)",
   "language": "python",
   "name": "python3"
  },
  "language_info": {
   "codemirror_mode": {
    "name": "ipython",
    "version": 3
   },
   "file_extension": ".py",
   "mimetype": "text/x-python",
   "name": "python",
   "nbconvert_exporter": "python",
   "pygments_lexer": "ipython3",
   "version": "3.10.9"
  }
 },
 "nbformat": 4,
 "nbformat_minor": 5
}
